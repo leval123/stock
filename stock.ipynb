{
 "cells": [
  {
   "cell_type": "code",
   "execution_count": 13,
   "metadata": {},
   "outputs": [],
   "source": [
    "import math\n",
    "import pandas_datareader as web\n",
    "import numpy as np\n",
    "import pandas as pd\n",
    "import matplotlib.pyplot as plt\n",
    "from sklearn.preprocessing import MinMaxScaler\n",
    "from keras.models import Sequential\n",
    "from keras.layers import Dense, LSTM\n",
    "\n",
    "plt.style.use('fivethirtyeight')"
   ]
  },
  {
   "cell_type": "code",
   "execution_count": 14,
   "metadata": {},
   "outputs": [
    {
     "name": "stdout",
     "output_type": "stream",
     "text": [
      "Requirement already satisfied: pandas in c:\\users\\bobgrasses\\anaconda3\\lib\\site-packages (1.1.3)\n",
      "Requirement already satisfied: matplotlib in c:\\users\\bobgrasses\\anaconda3\\lib\\site-packages (3.3.2)\n",
      "Requirement already satisfied: sklearn in c:\\users\\bobgrasses\\anaconda3\\lib\\site-packages (0.0)\n",
      "Requirement already satisfied: keras in c:\\users\\bobgrasses\\anaconda3\\lib\\site-packages (2.4.3)\n",
      "Requirement already satisfied: numpy in c:\\users\\bobgrasses\\anaconda3\\lib\\site-packages (1.19.2)\n",
      "Requirement already satisfied: tensorflow in c:\\users\\bobgrasses\\anaconda3\\lib\\site-packages (2.4.1)\n",
      "Requirement already satisfied: python-dateutil>=2.7.3 in c:\\users\\bobgrasses\\anaconda3\\lib\\site-packages (from pandas) (2.8.1)\n",
      "Requirement already satisfied: pytz>=2017.2 in c:\\users\\bobgrasses\\anaconda3\\lib\\site-packages (from pandas) (2020.1)\n",
      "Requirement already satisfied: cycler>=0.10 in c:\\users\\bobgrasses\\anaconda3\\lib\\site-packages (from matplotlib) (0.10.0)\n",
      "Requirement already satisfied: kiwisolver>=1.0.1 in c:\\users\\bobgrasses\\anaconda3\\lib\\site-packages (from matplotlib) (1.3.0)\n",
      "Requirement already satisfied: certifi>=2020.06.20 in c:\\users\\bobgrasses\\anaconda3\\lib\\site-packages (from matplotlib) (2020.6.20)\n",
      "Requirement already satisfied: pyparsing!=2.0.4,!=2.1.2,!=2.1.6,>=2.0.3 in c:\\users\\bobgrasses\\anaconda3\\lib\\site-packages (from matplotlib) (2.4.7)\n",
      "Requirement already satisfied: pillow>=6.2.0 in c:\\users\\bobgrasses\\anaconda3\\lib\\site-packages (from matplotlib) (8.0.1)\n",
      "Requirement already satisfied: scikit-learn in c:\\users\\bobgrasses\\anaconda3\\lib\\site-packages (from sklearn) (0.23.2)\n",
      "Requirement already satisfied: h5py in c:\\users\\bobgrasses\\anaconda3\\lib\\site-packages (from keras) (2.10.0)\n",
      "Requirement already satisfied: scipy>=0.14 in c:\\users\\bobgrasses\\anaconda3\\lib\\site-packages (from keras) (1.5.2)\n",
      "Requirement already satisfied: pyyaml in c:\\users\\bobgrasses\\anaconda3\\lib\\site-packages (from keras) (5.3.1)\n",
      "Requirement already satisfied: gast==0.3.3 in c:\\users\\bobgrasses\\anaconda3\\lib\\site-packages (from tensorflow) (0.3.3)\n",
      "Requirement already satisfied: tensorflow-estimator<2.5.0,>=2.4.0 in c:\\users\\bobgrasses\\anaconda3\\lib\\site-packages (from tensorflow) (2.4.0)\n",
      "Requirement already satisfied: grpcio~=1.32.0 in c:\\users\\bobgrasses\\anaconda3\\lib\\site-packages (from tensorflow) (1.32.0)\n",
      "Requirement already satisfied: google-pasta~=0.2 in c:\\users\\bobgrasses\\anaconda3\\lib\\site-packages (from tensorflow) (0.2.0)\n",
      "Requirement already satisfied: six~=1.15.0 in c:\\users\\bobgrasses\\anaconda3\\lib\\site-packages (from tensorflow) (1.15.0)\n",
      "Requirement already satisfied: opt-einsum~=3.3.0 in c:\\users\\bobgrasses\\anaconda3\\lib\\site-packages (from tensorflow) (3.3.0)\n",
      "Requirement already satisfied: astunparse~=1.6.3 in c:\\users\\bobgrasses\\anaconda3\\lib\\site-packages (from tensorflow) (1.6.3)\n",
      "Requirement already satisfied: keras-preprocessing~=1.1.2 in c:\\users\\bobgrasses\\anaconda3\\lib\\site-packages (from tensorflow) (1.1.2)\n",
      "Requirement already satisfied: absl-py~=0.10 in c:\\users\\bobgrasses\\anaconda3\\lib\\site-packages (from tensorflow) (0.12.0)\n",
      "Requirement already satisfied: protobuf>=3.9.2 in c:\\users\\bobgrasses\\anaconda3\\lib\\site-packages (from tensorflow) (3.15.6)\n",
      "Requirement already satisfied: typing-extensions~=3.7.4 in c:\\users\\bobgrasses\\anaconda3\\lib\\site-packages (from tensorflow) (3.7.4.3)\n",
      "Requirement already satisfied: termcolor~=1.1.0 in c:\\users\\bobgrasses\\anaconda3\\lib\\site-packages (from tensorflow) (1.1.0)\n",
      "Requirement already satisfied: wheel~=0.35 in c:\\users\\bobgrasses\\anaconda3\\lib\\site-packages (from tensorflow) (0.35.1)\n",
      "Requirement already satisfied: wrapt~=1.12.1 in c:\\users\\bobgrasses\\anaconda3\\lib\\site-packages (from tensorflow) (1.12.1)\n",
      "Requirement already satisfied: flatbuffers~=1.12.0 in c:\\users\\bobgrasses\\anaconda3\\lib\\site-packages (from tensorflow) (1.12)\n",
      "Requirement already satisfied: tensorboard~=2.4 in c:\\users\\bobgrasses\\anaconda3\\lib\\site-packages (from tensorflow) (2.4.1)\n",
      "Requirement already satisfied: threadpoolctl>=2.0.0 in c:\\users\\bobgrasses\\anaconda3\\lib\\site-packages (from scikit-learn->sklearn) (2.1.0)\n",
      "Requirement already satisfied: joblib>=0.11 in c:\\users\\bobgrasses\\anaconda3\\lib\\site-packages (from scikit-learn->sklearn) (0.17.0)\n",
      "Requirement already satisfied: google-auth-oauthlib<0.5,>=0.4.1 in c:\\users\\bobgrasses\\anaconda3\\lib\\site-packages (from tensorboard~=2.4->tensorflow) (0.4.3)\n",
      "Requirement already satisfied: setuptools>=41.0.0 in c:\\users\\bobgrasses\\anaconda3\\lib\\site-packages (from tensorboard~=2.4->tensorflow) (50.3.1.post20201107)\n",
      "Requirement already satisfied: tensorboard-plugin-wit>=1.6.0 in c:\\users\\bobgrasses\\anaconda3\\lib\\site-packages (from tensorboard~=2.4->tensorflow) (1.8.0)\n",
      "Requirement already satisfied: werkzeug>=0.11.15 in c:\\users\\bobgrasses\\anaconda3\\lib\\site-packages (from tensorboard~=2.4->tensorflow) (1.0.1)\n",
      "Requirement already satisfied: requests<3,>=2.21.0 in c:\\users\\bobgrasses\\anaconda3\\lib\\site-packages (from tensorboard~=2.4->tensorflow) (2.24.0)\n",
      "Requirement already satisfied: markdown>=2.6.8 in c:\\users\\bobgrasses\\anaconda3\\lib\\site-packages (from tensorboard~=2.4->tensorflow) (3.3.4)\n",
      "Requirement already satisfied: google-auth<2,>=1.6.3 in c:\\users\\bobgrasses\\anaconda3\\lib\\site-packages (from tensorboard~=2.4->tensorflow) (1.28.0)\n",
      "Requirement already satisfied: requests-oauthlib>=0.7.0 in c:\\users\\bobgrasses\\anaconda3\\lib\\site-packages (from google-auth-oauthlib<0.5,>=0.4.1->tensorboard~=2.4->tensorflow) (1.3.0)\n",
      "Requirement already satisfied: urllib3!=1.25.0,!=1.25.1,<1.26,>=1.21.1 in c:\\users\\bobgrasses\\anaconda3\\lib\\site-packages (from requests<3,>=2.21.0->tensorboard~=2.4->tensorflow) (1.25.11)\n",
      "Requirement already satisfied: chardet<4,>=3.0.2 in c:\\users\\bobgrasses\\anaconda3\\lib\\site-packages (from requests<3,>=2.21.0->tensorboard~=2.4->tensorflow) (3.0.4)\n",
      "Requirement already satisfied: idna<3,>=2.5 in c:\\users\\bobgrasses\\anaconda3\\lib\\site-packages (from requests<3,>=2.21.0->tensorboard~=2.4->tensorflow) (2.10)\n",
      "Requirement already satisfied: pyasn1-modules>=0.2.1 in c:\\users\\bobgrasses\\anaconda3\\lib\\site-packages (from google-auth<2,>=1.6.3->tensorboard~=2.4->tensorflow) (0.2.8)\n",
      "Requirement already satisfied: cachetools<5.0,>=2.0.0 in c:\\users\\bobgrasses\\anaconda3\\lib\\site-packages (from google-auth<2,>=1.6.3->tensorboard~=2.4->tensorflow) (4.2.1)\n",
      "Requirement already satisfied: rsa<5,>=3.1.4; python_version >= \"3.6\" in c:\\users\\bobgrasses\\anaconda3\\lib\\site-packages (from google-auth<2,>=1.6.3->tensorboard~=2.4->tensorflow) (4.7.2)\n",
      "Requirement already satisfied: oauthlib>=3.0.0 in c:\\users\\bobgrasses\\anaconda3\\lib\\site-packages (from requests-oauthlib>=0.7.0->google-auth-oauthlib<0.5,>=0.4.1->tensorboard~=2.4->tensorflow) (3.1.0)\n",
      "Requirement already satisfied: pyasn1<0.5.0,>=0.4.6 in c:\\users\\bobgrasses\\anaconda3\\lib\\site-packages (from pyasn1-modules>=0.2.1->google-auth<2,>=1.6.3->tensorboard~=2.4->tensorflow) (0.4.8)\n",
      "Note: you may need to restart the kernel to use updated packages.\n"
     ]
    }
   ],
   "source": [
    "pip install pandas matplotlib sklearn keras numpy tensorflow\n"
   ]
  },
  {
   "cell_type": "code",
   "execution_count": null,
   "metadata": {},
   "outputs": [],
   "source": []
  },
  {
   "cell_type": "code",
   "execution_count": 15,
   "metadata": {},
   "outputs": [
    {
     "name": "stdout",
     "output_type": "stream",
     "text": [
      "Requirement already up-to-date: yfinance in c:\\users\\bobgrasses\\anaconda3\\lib\\site-packages (0.1.63)\n",
      "Requirement already satisfied, skipping upgrade: requests>=2.20 in c:\\users\\bobgrasses\\anaconda3\\lib\\site-packages (from yfinance) (2.24.0)\n",
      "Requirement already satisfied, skipping upgrade: lxml>=4.5.1 in c:\\users\\bobgrasses\\anaconda3\\lib\\site-packages (from yfinance) (4.6.1)\n",
      "Requirement already satisfied, skipping upgrade: multitasking>=0.0.7 in c:\\users\\bobgrasses\\anaconda3\\lib\\site-packages (from yfinance) (0.0.9)\n",
      "Requirement already satisfied, skipping upgrade: numpy>=1.15 in c:\\users\\bobgrasses\\anaconda3\\lib\\site-packages (from yfinance) (1.19.2)\n",
      "Requirement already satisfied, skipping upgrade: pandas>=0.24 in c:\\users\\bobgrasses\\anaconda3\\lib\\site-packages (from yfinance) (1.1.3)\n",
      "Requirement already satisfied, skipping upgrade: idna<3,>=2.5 in c:\\users\\bobgrasses\\anaconda3\\lib\\site-packages (from requests>=2.20->yfinance) (2.10)\n",
      "Requirement already satisfied, skipping upgrade: certifi>=2017.4.17 in c:\\users\\bobgrasses\\anaconda3\\lib\\site-packages (from requests>=2.20->yfinance) (2020.6.20)\n",
      "Requirement already satisfied, skipping upgrade: chardet<4,>=3.0.2 in c:\\users\\bobgrasses\\anaconda3\\lib\\site-packages (from requests>=2.20->yfinance) (3.0.4)\n",
      "Requirement already satisfied, skipping upgrade: urllib3!=1.25.0,!=1.25.1,<1.26,>=1.21.1 in c:\\users\\bobgrasses\\anaconda3\\lib\\site-packages (from requests>=2.20->yfinance) (1.25.11)\n",
      "Requirement already satisfied, skipping upgrade: python-dateutil>=2.7.3 in c:\\users\\bobgrasses\\anaconda3\\lib\\site-packages (from pandas>=0.24->yfinance) (2.8.1)\n",
      "Requirement already satisfied, skipping upgrade: pytz>=2017.2 in c:\\users\\bobgrasses\\anaconda3\\lib\\site-packages (from pandas>=0.24->yfinance) (2020.1)\n",
      "Requirement already satisfied, skipping upgrade: six>=1.5 in c:\\users\\bobgrasses\\anaconda3\\lib\\site-packages (from python-dateutil>=2.7.3->pandas>=0.24->yfinance) (1.15.0)\n",
      "Note: you may need to restart the kernel to use updated packages.\n"
     ]
    }
   ],
   "source": [
    "pip install yfinance --upgrade --no-cache-dir\n"
   ]
  },
  {
   "cell_type": "code",
   "execution_count": 16,
   "metadata": {},
   "outputs": [],
   "source": [
    "from pandas_datareader import data as pdr\n",
    "import yfinance as yf\n",
    "\n",
    "yf.pdr_override()"
   ]
  },
  {
   "cell_type": "code",
   "execution_count": 41,
   "metadata": {},
   "outputs": [
    {
     "name": "stdout",
     "output_type": "stream",
     "text": [
      "[*********************100%***********************]  1 of 1 completed\n"
     ]
    },
    {
     "data": {
      "text/html": [
       "<div>\n",
       "<style scoped>\n",
       "    .dataframe tbody tr th:only-of-type {\n",
       "        vertical-align: middle;\n",
       "    }\n",
       "\n",
       "    .dataframe tbody tr th {\n",
       "        vertical-align: top;\n",
       "    }\n",
       "\n",
       "    .dataframe thead th {\n",
       "        text-align: right;\n",
       "    }\n",
       "</style>\n",
       "<table border=\"1\" class=\"dataframe\">\n",
       "  <thead>\n",
       "    <tr style=\"text-align: right;\">\n",
       "      <th></th>\n",
       "      <th>Open</th>\n",
       "      <th>High</th>\n",
       "      <th>Low</th>\n",
       "      <th>Close</th>\n",
       "      <th>Adj Close</th>\n",
       "      <th>Volume</th>\n",
       "    </tr>\n",
       "    <tr>\n",
       "      <th>Date</th>\n",
       "      <th></th>\n",
       "      <th></th>\n",
       "      <th></th>\n",
       "      <th></th>\n",
       "      <th></th>\n",
       "      <th></th>\n",
       "    </tr>\n",
       "  </thead>\n",
       "  <tbody>\n",
       "    <tr>\n",
       "      <th>2013-01-02</th>\n",
       "      <td>360.070068</td>\n",
       "      <td>363.863861</td>\n",
       "      <td>358.633636</td>\n",
       "      <td>361.987000</td>\n",
       "      <td>361.987000</td>\n",
       "      <td>5077517</td>\n",
       "    </tr>\n",
       "    <tr>\n",
       "      <th>2013-01-03</th>\n",
       "      <td>362.827820</td>\n",
       "      <td>366.331329</td>\n",
       "      <td>360.720734</td>\n",
       "      <td>362.197205</td>\n",
       "      <td>362.197205</td>\n",
       "      <td>4631764</td>\n",
       "    </tr>\n",
       "    <tr>\n",
       "      <th>2013-01-04</th>\n",
       "      <td>365.035034</td>\n",
       "      <td>371.106110</td>\n",
       "      <td>364.204193</td>\n",
       "      <td>369.354340</td>\n",
       "      <td>369.354340</td>\n",
       "      <td>5521473</td>\n",
       "    </tr>\n",
       "    <tr>\n",
       "      <th>2013-01-07</th>\n",
       "      <td>368.093079</td>\n",
       "      <td>370.060059</td>\n",
       "      <td>365.655670</td>\n",
       "      <td>367.742737</td>\n",
       "      <td>367.742737</td>\n",
       "      <td>3308089</td>\n",
       "    </tr>\n",
       "    <tr>\n",
       "      <th>2013-01-08</th>\n",
       "      <td>368.138153</td>\n",
       "      <td>368.518524</td>\n",
       "      <td>362.577576</td>\n",
       "      <td>367.017029</td>\n",
       "      <td>367.017029</td>\n",
       "      <td>3348848</td>\n",
       "    </tr>\n",
       "    <tr>\n",
       "      <th>...</th>\n",
       "      <td>...</td>\n",
       "      <td>...</td>\n",
       "      <td>...</td>\n",
       "      <td>...</td>\n",
       "      <td>...</td>\n",
       "      <td>...</td>\n",
       "    </tr>\n",
       "    <tr>\n",
       "      <th>2021-07-14</th>\n",
       "      <td>2559.159912</td>\n",
       "      <td>2586.530029</td>\n",
       "      <td>2558.290039</td>\n",
       "      <td>2564.739990</td>\n",
       "      <td>2564.739990</td>\n",
       "      <td>1187100</td>\n",
       "    </tr>\n",
       "    <tr>\n",
       "      <th>2021-07-15</th>\n",
       "      <td>2572.979980</td>\n",
       "      <td>2574.000000</td>\n",
       "      <td>2530.600098</td>\n",
       "      <td>2540.100098</td>\n",
       "      <td>2540.100098</td>\n",
       "      <td>1210900</td>\n",
       "    </tr>\n",
       "    <tr>\n",
       "      <th>2021-07-16</th>\n",
       "      <td>2553.260010</td>\n",
       "      <td>2556.229980</td>\n",
       "      <td>2523.070068</td>\n",
       "      <td>2539.399902</td>\n",
       "      <td>2539.399902</td>\n",
       "      <td>1020600</td>\n",
       "    </tr>\n",
       "    <tr>\n",
       "      <th>2021-07-19</th>\n",
       "      <td>2521.790039</td>\n",
       "      <td>2524.100098</td>\n",
       "      <td>2470.100098</td>\n",
       "      <td>2491.560059</td>\n",
       "      <td>2491.560059</td>\n",
       "      <td>1398400</td>\n",
       "    </tr>\n",
       "    <tr>\n",
       "      <th>2021-07-20</th>\n",
       "      <td>2510.550049</td>\n",
       "      <td>2540.860107</td>\n",
       "      <td>2487.010010</td>\n",
       "      <td>2524.189941</td>\n",
       "      <td>2524.189941</td>\n",
       "      <td>1315600</td>\n",
       "    </tr>\n",
       "  </tbody>\n",
       "</table>\n",
       "<p>2152 rows × 6 columns</p>\n",
       "</div>"
      ],
      "text/plain": [
       "                   Open         High          Low        Close    Adj Close  \\\n",
       "Date                                                                          \n",
       "2013-01-02   360.070068   363.863861   358.633636   361.987000   361.987000   \n",
       "2013-01-03   362.827820   366.331329   360.720734   362.197205   362.197205   \n",
       "2013-01-04   365.035034   371.106110   364.204193   369.354340   369.354340   \n",
       "2013-01-07   368.093079   370.060059   365.655670   367.742737   367.742737   \n",
       "2013-01-08   368.138153   368.518524   362.577576   367.017029   367.017029   \n",
       "...                 ...          ...          ...          ...          ...   \n",
       "2021-07-14  2559.159912  2586.530029  2558.290039  2564.739990  2564.739990   \n",
       "2021-07-15  2572.979980  2574.000000  2530.600098  2540.100098  2540.100098   \n",
       "2021-07-16  2553.260010  2556.229980  2523.070068  2539.399902  2539.399902   \n",
       "2021-07-19  2521.790039  2524.100098  2470.100098  2491.560059  2491.560059   \n",
       "2021-07-20  2510.550049  2540.860107  2487.010010  2524.189941  2524.189941   \n",
       "\n",
       "             Volume  \n",
       "Date                 \n",
       "2013-01-02  5077517  \n",
       "2013-01-03  4631764  \n",
       "2013-01-04  5521473  \n",
       "2013-01-07  3308089  \n",
       "2013-01-08  3348848  \n",
       "...             ...  \n",
       "2021-07-14  1187100  \n",
       "2021-07-15  1210900  \n",
       "2021-07-16  1020600  \n",
       "2021-07-19  1398400  \n",
       "2021-07-20  1315600  \n",
       "\n",
       "[2152 rows x 6 columns]"
      ]
     },
     "execution_count": 41,
     "metadata": {},
     "output_type": "execute_result"
    }
   ],
   "source": [
    "df = pdr.get_data_yahoo('GOOGL',start='2013-01-01', end='2021-07-21')\n",
    "df"
   ]
  },
  {
   "cell_type": "code",
   "execution_count": 42,
   "metadata": {},
   "outputs": [
    {
     "data": {
      "text/plain": [
       "(2152, 6)"
      ]
     },
     "execution_count": 42,
     "metadata": {},
     "output_type": "execute_result"
    }
   ],
   "source": [
    "df.shape"
   ]
  },
  {
   "cell_type": "code",
   "execution_count": 43,
   "metadata": {},
   "outputs": [
    {
     "data": {
      "image/png": "[encoded data removed]",
      "text/plain": [
       "<Figure size 1152x576 with 1 Axes>"
      ]
     },
     "metadata": {},
     "output_type": "display_data"
    }
   ],
   "source": [
    "plt.figure(figsize=(16,8))\n",
    "plt.title('close price History')\n",
    "plt.plot(df['Close'])\n",
    "plt.show()\n",
    "\n"
   ]
  },
  {
   "cell_type": "code",
   "execution_count": 44,
   "metadata": {},
   "outputs": [
    {
     "data": {
      "text/plain": [
       "1937"
      ]
     },
     "execution_count": 44,
     "metadata": {},
     "output_type": "execute_result"
    }
   ],
   "source": [
    "data = df.filter(['Close'])\n",
    "dataset = data.values\n",
    "training_data_len = math.ceil(len(dataset) * .9)\n",
    "training_data_len"
   ]
  },
  {
   "cell_type": "code",
   "execution_count": 45,
   "metadata": {},
   "outputs": [
    {
     "data": {
      "text/plain": [
       "array([[0.00460933],\n",
       "       [0.00470432],\n",
       "       [0.00793852],\n",
       "       ...,\n",
       "       [0.9885492 ],\n",
       "       [0.9669311 ],\n",
       "       [0.98167605]])"
      ]
     },
     "execution_count": 45,
     "metadata": {},
     "output_type": "execute_result"
    }
   ],
   "source": [
    "scalar = MinMaxScaler(feature_range=(0,1))\n",
    "scaled_data = scalar.fit_transform(dataset)\n",
    "scaled_data\n"
   ]
  },
  {
   "cell_type": "code",
   "execution_count": 46,
   "metadata": {},
   "outputs": [
    {
     "name": "stdout",
     "output_type": "stream",
     "text": [
      "[array([0.00460933, 0.00470432, 0.00793852, 0.00721026, 0.00688232,\n",
      "       0.00797245, 0.00873238, 0.00839538, 0.00460933, 0.00498928,\n",
      "       0.0027864 , 0.00191113, 0.00037092, 0.        , 0.0087369 ,\n",
      "       0.0116115 , 0.01148937, 0.01082444, 0.01149163, 0.01152556,\n",
      "       0.01194624, 0.01644925, 0.01269937, 0.01421923, 0.01522115,\n",
      "       0.01607607, 0.01865891, 0.01799171, 0.01760271, 0.01809122,\n",
      "       0.01921302, 0.0203597 , 0.02351701, 0.02026245, 0.02095679,\n",
      "       0.02190217, 0.01988023, 0.01973547, 0.021918  , 0.02223917,\n",
      "       0.02336775, 0.02683039, 0.03069787, 0.02906493, 0.02934085,\n",
      "       0.0290966 , 0.02984295, 0.02821227, 0.02769208, 0.02683943,\n",
      "       0.02520197, 0.02372961, 0.02452799, 0.0252947 , 0.02451442,\n",
      "       0.02429955, 0.02414802, 0.02477677, 0.02256936, 0.02065372])]\n",
      "[0.022236904127725526]\n",
      "\n",
      "[array([0.00460933, 0.00470432, 0.00793852, 0.00721026, 0.00688232,\n",
      "       0.00797245, 0.00873238, 0.00839538, 0.00460933, 0.00498928,\n",
      "       0.0027864 , 0.00191113, 0.00037092, 0.        , 0.0087369 ,\n",
      "       0.0116115 , 0.01148937, 0.01082444, 0.01149163, 0.01152556,\n",
      "       0.01194624, 0.01644925, 0.01269937, 0.01421923, 0.01522115,\n",
      "       0.01607607, 0.01865891, 0.01799171, 0.01760271, 0.01809122,\n",
      "       0.01921302, 0.0203597 , 0.02351701, 0.02026245, 0.02095679,\n",
      "       0.02190217, 0.01988023, 0.01973547, 0.021918  , 0.02223917,\n",
      "       0.02336775, 0.02683039, 0.03069787, 0.02906493, 0.02934085,\n",
      "       0.0290966 , 0.02984295, 0.02821227, 0.02769208, 0.02683943,\n",
      "       0.02520197, 0.02372961, 0.02452799, 0.0252947 , 0.02451442,\n",
      "       0.02429955, 0.02414802, 0.02477677, 0.02256936, 0.02065372]), array([0.00470432, 0.00793852, 0.00721026, 0.00688232, 0.00797245,\n",
      "       0.00873238, 0.00839538, 0.00460933, 0.00498928, 0.0027864 ,\n",
      "       0.00191113, 0.00037092, 0.        , 0.0087369 , 0.0116115 ,\n",
      "       0.01148937, 0.01082444, 0.01149163, 0.01152556, 0.01194624,\n",
      "       0.01644925, 0.01269937, 0.01421923, 0.01522115, 0.01607607,\n",
      "       0.01865891, 0.01799171, 0.01760271, 0.01809122, 0.01921302,\n",
      "       0.0203597 , 0.02351701, 0.02026245, 0.02095679, 0.02190217,\n",
      "       0.01988023, 0.01973547, 0.021918  , 0.02223917, 0.02336775,\n",
      "       0.02683039, 0.03069787, 0.02906493, 0.02934085, 0.0290966 ,\n",
      "       0.02984295, 0.02821227, 0.02769208, 0.02683943, 0.02520197,\n",
      "       0.02372961, 0.02452799, 0.0252947 , 0.02451442, 0.02429955,\n",
      "       0.02414802, 0.02477677, 0.02256936, 0.02065372, 0.0222369 ])]\n",
      "[0.022236904127725526, 0.024917005395271585]\n",
      "\n"
     ]
    },
    {
     "data": {
      "text/plain": [
       "array([[0.00460933],\n",
       "       [0.00470432],\n",
       "       [0.00793852],\n",
       "       ...,\n",
       "       [0.52952462],\n",
       "       [0.54020266],\n",
       "       [0.53063177]])"
      ]
     },
     "execution_count": 46,
     "metadata": {},
     "output_type": "execute_result"
    }
   ],
   "source": [
    "train_data = scaled_data[0:training_data_len , :]\n",
    "x_train = []\n",
    "y_train = []\n",
    "\n",
    "\n",
    "for i in range(60, len(train_data)):\n",
    "    x_train.append(train_data[i-60:i, 0])\n",
    "    y_train.append(train_data[i, 0])\n",
    "    if i<=61:\n",
    "        print(x_train)\n",
    "        print(y_train)\n",
    "        print()\n",
    "    \n",
    "train_data"
   ]
  },
  {
   "cell_type": "code",
   "execution_count": 47,
   "metadata": {},
   "outputs": [],
   "source": [
    "x_train, y_train = np.array(x_train), np.array(y_train)"
   ]
  },
  {
   "cell_type": "code",
   "execution_count": 48,
   "metadata": {},
   "outputs": [
    {
     "data": {
      "text/plain": [
       "(1877, 60, 1)"
      ]
     },
     "execution_count": 48,
     "metadata": {},
     "output_type": "execute_result"
    }
   ],
   "source": [
    "x_train = np.reshape(x_train, (x_train.shape[0], x_train.shape[1], 1))\n",
    "x_train.shape"
   ]
  },
  {
   "cell_type": "code",
   "execution_count": 49,
   "metadata": {},
   "outputs": [],
   "source": [
    "model = Sequential()\n",
    "model.add(LSTM(50, return_sequences=True, input_shape=(x_train.shape[1], 1)))\n",
    "model.add(LSTM(50, return_sequences=False))\n",
    "model.add(Dense(25))\n",
    "model.add(Dense(1))"
   ]
  },
  {
   "cell_type": "code",
   "execution_count": 50,
   "metadata": {},
   "outputs": [],
   "source": [
    "model.compile(optimizer='adam', loss='mean_squared_error')\n"
   ]
  },
  {
   "cell_type": "code",
   "execution_count": 51,
   "metadata": {},
   "outputs": [
    {
     "name": "stdout",
     "output_type": "stream",
     "text": [
      "1877/1877 [==============================] - 21s 10ms/step - loss: 0.0024\n"
     ]
    },
    {
     "data": {
      "text/plain": [
       "<tensorflow.python.keras.callbacks.History at 0x20bd0f00610>"
      ]
     },
     "execution_count": 51,
     "metadata": {},
     "output_type": "execute_result"
    }
   ],
   "source": [
    "model.fit(x_train, y_train, batch_size=1, epochs=1)"
   ]
  },
  {
   "cell_type": "code",
   "execution_count": 52,
   "metadata": {},
   "outputs": [],
   "source": [
    "test_data = scaled_data[training_data_len - 60: , :]\n",
    "x_test = []\n",
    "y_test = dataset[training_data_len:, :]\n",
    "for i in range (60, len(test_data)):\n",
    "    x_test.append(test_data[i-60:i, 0])\n",
    "\n"
   ]
  },
  {
   "cell_type": "code",
   "execution_count": 53,
   "metadata": {},
   "outputs": [
    {
     "data": {
      "text/plain": [
       "1937"
      ]
     },
     "execution_count": 53,
     "metadata": {},
     "output_type": "execute_result"
    }
   ],
   "source": [
    "training_data_len"
   ]
  },
  {
   "cell_type": "code",
   "execution_count": 54,
   "metadata": {},
   "outputs": [],
   "source": [
    "x_test = np.array(x_test)"
   ]
  },
  {
   "cell_type": "code",
   "execution_count": 55,
   "metadata": {},
   "outputs": [],
   "source": [
    "x_test = np.reshape(x_test, (x_test.shape[0], x_test.shape[1], 1))"
   ]
  },
  {
   "cell_type": "code",
   "execution_count": 56,
   "metadata": {},
   "outputs": [],
   "source": [
    "predictions = model.predict(x_test)\n",
    "predictions = scalar.inverse_transform(predictions)"
   ]
  },
  {
   "cell_type": "code",
   "execution_count": 57,
   "metadata": {},
   "outputs": [
    {
     "name": "stdout",
     "output_type": "stream",
     "text": [
      "(215, 1)\n"
     ]
    },
    {
     "data": {
      "text/plain": [
       "82.20766763642489"
      ]
     },
     "execution_count": 57,
     "metadata": {},
     "output_type": "execute_result"
    }
   ],
   "source": [
    "rmse=np.sqrt(np.mean((predictions- y_test)**2))\n",
    "print(y_test.shape)\n",
    "rmse"
   ]
  },
  {
   "cell_type": "code",
   "execution_count": 58,
   "metadata": {},
   "outputs": [
    {
     "name": "stderr",
     "output_type": "stream",
     "text": [
      "<ipython-input-58-142a9e1806bb>:3: SettingWithCopyWarning: \n",
      "A value is trying to be set on a copy of a slice from a DataFrame.\n",
      "Try using .loc[row_indexer,col_indexer] = value instead\n",
      "\n",
      "See the caveats in the documentation: https://pandas.pydata.org/pandas-docs/stable/user_guide/indexing.html#returning-a-view-versus-a-copy\n",
      "  valid['Predictions'] = predictions\n"
     ]
    },
    {
     "data": {
      "image/png": "[encoded data removed]",
      "text/plain": [
       "<Figure size 1152x576 with 1 Axes>"
      ]
     },
     "metadata": {},
     "output_type": "display_data"
    }
   ],
   "source": [
    "train = data[:training_data_len]\n",
    "valid = data[training_data_len:]\n",
    "valid['Predictions'] = predictions\n",
    "\n",
    "plt.figure(figsize=(16,8))\n",
    "plt.title('Model')\n",
    "plt.plot(train['Close'])\n",
    "plt.plot(valid[['Close', 'Predictions']])\n",
    "plt.legend(['Train', 'Val', 'Predictions'], loc = 'lower right')\n",
    "plt.show()"
   ]
  },
  {
   "cell_type": "code",
   "execution_count": 59,
   "metadata": {},
   "outputs": [
    {
     "data": {
      "text/html": [
       "<div>\n",
       "<style scoped>\n",
       "    .dataframe tbody tr th:only-of-type {\n",
       "        vertical-align: middle;\n",
       "    }\n",
       "\n",
       "    .dataframe tbody tr th {\n",
       "        vertical-align: top;\n",
       "    }\n",
       "\n",
       "    .dataframe thead th {\n",
       "        text-align: right;\n",
       "    }\n",
       "</style>\n",
       "<table border=\"1\" class=\"dataframe\">\n",
       "  <thead>\n",
       "    <tr style=\"text-align: right;\">\n",
       "      <th></th>\n",
       "      <th>Close</th>\n",
       "      <th>Predictions</th>\n",
       "    </tr>\n",
       "    <tr>\n",
       "      <th>Date</th>\n",
       "      <th></th>\n",
       "      <th></th>\n",
       "    </tr>\n",
       "  </thead>\n",
       "  <tbody>\n",
       "    <tr>\n",
       "      <th>2020-09-11</th>\n",
       "      <td>1515.760010</td>\n",
       "      <td>1567.551514</td>\n",
       "    </tr>\n",
       "    <tr>\n",
       "      <th>2020-09-14</th>\n",
       "      <td>1508.829956</td>\n",
       "      <td>1548.578979</td>\n",
       "    </tr>\n",
       "    <tr>\n",
       "      <th>2020-09-15</th>\n",
       "      <td>1535.119995</td>\n",
       "      <td>1530.873169</td>\n",
       "    </tr>\n",
       "    <tr>\n",
       "      <th>2020-09-16</th>\n",
       "      <td>1512.089966</td>\n",
       "      <td>1518.631226</td>\n",
       "    </tr>\n",
       "    <tr>\n",
       "      <th>2020-09-17</th>\n",
       "      <td>1487.040039</td>\n",
       "      <td>1508.191284</td>\n",
       "    </tr>\n",
       "    <tr>\n",
       "      <th>...</th>\n",
       "      <td>...</td>\n",
       "      <td>...</td>\n",
       "    </tr>\n",
       "    <tr>\n",
       "      <th>2021-07-14</th>\n",
       "      <td>2564.739990</td>\n",
       "      <td>2434.486572</td>\n",
       "    </tr>\n",
       "    <tr>\n",
       "      <th>2021-07-15</th>\n",
       "      <td>2540.100098</td>\n",
       "      <td>2444.506836</td>\n",
       "    </tr>\n",
       "    <tr>\n",
       "      <th>2021-07-16</th>\n",
       "      <td>2539.399902</td>\n",
       "      <td>2450.937012</td>\n",
       "    </tr>\n",
       "    <tr>\n",
       "      <th>2021-07-19</th>\n",
       "      <td>2491.560059</td>\n",
       "      <td>2454.863525</td>\n",
       "    </tr>\n",
       "    <tr>\n",
       "      <th>2021-07-20</th>\n",
       "      <td>2524.189941</td>\n",
       "      <td>2451.382324</td>\n",
       "    </tr>\n",
       "  </tbody>\n",
       "</table>\n",
       "<p>215 rows × 2 columns</p>\n",
       "</div>"
      ],
      "text/plain": [
       "                  Close  Predictions\n",
       "Date                                \n",
       "2020-09-11  1515.760010  1567.551514\n",
       "2020-09-14  1508.829956  1548.578979\n",
       "2020-09-15  1535.119995  1530.873169\n",
       "2020-09-16  1512.089966  1518.631226\n",
       "2020-09-17  1487.040039  1508.191284\n",
       "...                 ...          ...\n",
       "2021-07-14  2564.739990  2434.486572\n",
       "2021-07-15  2540.100098  2444.506836\n",
       "2021-07-16  2539.399902  2450.937012\n",
       "2021-07-19  2491.560059  2454.863525\n",
       "2021-07-20  2524.189941  2451.382324\n",
       "\n",
       "[215 rows x 2 columns]"
      ]
     },
     "execution_count": 59,
     "metadata": {},
     "output_type": "execute_result"
    }
   ],
   "source": [
    "valid"
   ]
  },
  {
   "cell_type": "code",
   "execution_count": 60,
   "metadata": {},
   "outputs": [
    {
     "name": "stdout",
     "output_type": "stream",
     "text": [
      "[*********************100%***********************]  1 of 1 completed\n",
      "[[2448.5205]]\n"
     ]
    }
   ],
   "source": [
    "google_quote =pdr.get_data_yahoo('GOOGL',data_source='yahoo', start='2013-01-01', end='2021-07-21')\n",
    "new_df = google_quote.filter(['Close'])\n",
    "last_60_days = new_df[-60:].values\n",
    "last_60_days_scaled = scalar.transform(last_60_days)\n",
    "\n",
    "X_test = []\n",
    "X_test.append(last_60_days_scaled)\n",
    "X_test = np.array(X_test)\n",
    "X_test = np.reshape(X_test, (X_test.shape[0],X_test.shape[1], 1))\n",
    "pred_price = model.predict(X_test)\n",
    "pred_price = scalar.inverse_transform(pred_price)\n",
    "print(pred_price) "
   ]
  },
  {
   "cell_type": "code",
   "execution_count": null,
   "metadata": {},
   "outputs": [],
   "source": []
  },
  {
   "cell_type": "code",
   "execution_count": 64,
   "metadata": {},
   "outputs": [
    {
     "name": "stdout",
     "output_type": "stream",
     "text": [
      "[*********************100%***********************]  1 of 1 completed\n",
      "Date\n",
      "2021-07-22    2560.620117\n",
      "Name: Close, dtype: float64\n"
     ]
    }
   ],
   "source": [
    "google_quote2 = pdr.get_data_yahoo('GOOGL',data_source='yahoo', start='2021-07-22', end='2021-07-23')\n",
    "print(google_quote2['Close'])\n"
   ]
  },
  {
   "cell_type": "code",
   "execution_count": null,
   "metadata": {},
   "outputs": [],
   "source": []
  },
  {
   "cell_type": "code",
   "execution_count": null,
   "metadata": {},
   "outputs": [],
   "source": []
  },
  {
   "cell_type": "code",
   "execution_count": null,
   "metadata": {},
   "outputs": [],
   "source": []
  }
 ],
 "metadata": {
  "kernelspec": {
   "display_name": "Python 3",
   "language": "python",
   "name": "python3"
  },
  "language_info": {
   "codemirror_mode": {
    "name": "ipython",
    "version": 3
   },
   "file_extension": ".py",
   "mimetype": "text/x-python",
   "name": "python",
   "nbconvert_exporter": "python",
   "pygments_lexer": "ipython3",
   "version": "3.8.5"
  }
 },
 "nbformat": 4,
 "nbformat_minor": 4
}
